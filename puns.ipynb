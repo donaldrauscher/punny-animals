{
 "cells": [
  {
   "cell_type": "code",
   "execution_count": 1,
   "metadata": {},
   "outputs": [],
   "source": [
    "import warnings\n",
    "warnings.filterwarnings(\"ignore\")"
   ]
  },
  {
   "cell_type": "code",
   "execution_count": 2,
   "metadata": {},
   "outputs": [],
   "source": [
    "from difflib import SequenceMatcher\n",
    "import itertools\n",
    "\n",
    "import cmudict\n",
    "from gensim.models import Word2Vec\n",
    "\n",
    "import numpy as np\n",
    "import pandas as pd"
   ]
  },
  {
   "cell_type": "markdown",
   "metadata": {},
   "source": [
    "### Word2Vec model to identify similar sounds"
   ]
  },
  {
   "cell_type": "code",
   "execution_count": 3,
   "metadata": {},
   "outputs": [],
   "source": [
    "flatten = lambda l: [item for sublist in l for item in sublist]"
   ]
  },
  {
   "cell_type": "code",
   "execution_count": 4,
   "metadata": {},
   "outputs": [],
   "source": [
    "# NOTE: Do we want to remove emphasis?\n",
    "words = flatten(list(cmudict.dict().values()))\n",
    "phones = np.unique(flatten(words))"
   ]
  },
  {
   "cell_type": "code",
   "execution_count": 5,
   "metadata": {},
   "outputs": [],
   "source": [
    "model = Word2Vec(words, size=10, window=1, min_count=1, workers=8)"
   ]
  },
  {
   "cell_type": "markdown",
   "metadata": {},
   "source": [
    "### Functions for computing Levenshtein distance using W2V similarity"
   ]
  },
  {
   "cell_type": "code",
   "execution_count": 6,
   "metadata": {},
   "outputs": [],
   "source": [
    "# TODO: default to double metaphone if either word NOT in CMU dict\n",
    "def add_pronunciation(function):\n",
    "    def wrapper(w1, w2, w2v):\n",
    "        w1_pron = cmudict.dict()[w1]\n",
    "        w2_pron = cmudict.dict()[w2]\n",
    "        pairs = itertools.product(w1_pron, w2_pron)\n",
    "        return max([function(i, j, w2v) for i, j in pairs])\n",
    "    return wrapper"
   ]
  },
  {
   "cell_type": "code",
   "execution_count": 7,
   "metadata": {},
   "outputs": [],
   "source": [
    "# levenshtein edit distance function\n",
    "def edit_distance_(w1, w2, w2v):\n",
    "    \n",
    "    cost = []\n",
    "    \n",
    "    for i in range(len(w1)+1):\n",
    "        x = []\n",
    "        for j in range(len(w2)+1):\n",
    "            x.append(0)\n",
    "        cost.append(x)\n",
    "    \n",
    "    for i in range(len(w1)+1):\n",
    "        cost[i][0] = i\n",
    "    for j in range(len(w2)+1):\n",
    "        cost[0][j] = j\n",
    "        \n",
    "    # baseline costs\n",
    "    del_cost = 1\n",
    "    add_cost = 1\n",
    "    \n",
    "    for i in range(1, len(w1)+1):\n",
    "        for j in range(1, len(w2)+1):\n",
    "            if w1[i-1] == w2[j-1]:\n",
    "                sub_cost = 0\n",
    "            else:\n",
    "                sub_cost = 1 - w2v.wv.similarity(w1[i-1], w2[j-1])\n",
    "            # get the totals\n",
    "            del_total = cost[i-1][j] + del_cost\n",
    "            add_total = cost[i][j-1] + add_cost\n",
    "            sub_total = cost[i-1][j-1] + sub_cost\n",
    "            # choose the lowest cost from the options\n",
    "            options = [del_total, add_total, sub_total]\n",
    "            options.sort()\n",
    "            cost[i][j] = options[0]\n",
    "\n",
    "    ratio = (1 - cost[-1][-1]/max(len(w1), len(w2)))\n",
    "            \n",
    "    return ratio"
   ]
  },
  {
   "cell_type": "code",
   "execution_count": 8,
   "metadata": {},
   "outputs": [],
   "source": [
    "# return ratio of most similar substring\n",
    "def partial_edit_distance_(w1, w2, w2v):\n",
    "\n",
    "    if len(w1) <= len(w2):\n",
    "        shorter = w1\n",
    "        longer = w2\n",
    "    else:\n",
    "        shorter = w2\n",
    "        longer = w1\n",
    "\n",
    "    m = SequenceMatcher(None, shorter, longer)\n",
    "    blocks = m.get_matching_blocks()\n",
    "\n",
    "    scores = []\n",
    "    for block in blocks:\n",
    "        long_start = block[1] - block[0] if (block[1] - block[0]) > 0 else 0\n",
    "        long_end = long_start + len(shorter)\n",
    "        long_substr = longer[long_start:long_end]\n",
    "\n",
    "        r = edit_distance_(shorter, long_substr, w2v)\n",
    "        scores.append(r)\n",
    "\n",
    "    return max(scores)"
   ]
  },
  {
   "cell_type": "code",
   "execution_count": 9,
   "metadata": {},
   "outputs": [],
   "source": [
    "@add_pronunciation\n",
    "def edit_distance(*args, **kwargs):\n",
    "    return edit_distance_(*args, **kwargs)\n",
    "\n",
    "@add_pronunciation\n",
    "def partial_edit_distance(*args, **kwargs):\n",
    "    return partial_edit_distance_(*args, **kwargs)"
   ]
  },
  {
   "cell_type": "code",
   "execution_count": 10,
   "metadata": {},
   "outputs": [
    {
     "data": {
      "text/plain": [
       "0.746347326040268"
      ]
     },
     "execution_count": 10,
     "metadata": {},
     "output_type": "execute_result"
    }
   ],
   "source": [
    "partial_edit_distance('koala', 'qualification', model)"
   ]
  },
  {
   "cell_type": "code",
   "execution_count": 11,
   "metadata": {},
   "outputs": [
    {
     "data": {
      "text/plain": [
       "0.911413597209113"
      ]
     },
     "execution_count": 11,
     "metadata": {},
     "output_type": "execute_result"
    }
   ],
   "source": [
    "partial_edit_distance('relevant', 'elephant', model)"
   ]
  },
  {
   "cell_type": "code",
   "execution_count": 12,
   "metadata": {},
   "outputs": [
    {
     "data": {
      "text/plain": [
       "0.9193509519100189"
      ]
     },
     "execution_count": 12,
     "metadata": {},
     "output_type": "execute_result"
    }
   ],
   "source": [
    "partial_edit_distance('humanity', 'manatee', model)"
   ]
  },
  {
   "cell_type": "code",
   "execution_count": 13,
   "metadata": {},
   "outputs": [
    {
     "data": {
      "text/plain": [
       "1.0"
      ]
     },
     "execution_count": 13,
     "metadata": {},
     "output_type": "execute_result"
    }
   ],
   "source": [
    "partial_edit_distance('iguana', 'wanna', model)"
   ]
  },
  {
   "cell_type": "code",
   "execution_count": 14,
   "metadata": {},
   "outputs": [
    {
     "data": {
      "text/plain": [
       "0.904794430732727"
      ]
     },
     "execution_count": 14,
     "metadata": {},
     "output_type": "execute_result"
    }
   ],
   "source": [
    "partial_edit_distance('ribbit', 'rivet', model)"
   ]
  }
 ],
 "metadata": {
  "kernelspec": {
   "display_name": "Python 3",
   "language": "python",
   "name": "python3"
  },
  "language_info": {
   "codemirror_mode": {
    "name": "ipython",
    "version": 3
   },
   "file_extension": ".py",
   "mimetype": "text/x-python",
   "name": "python",
   "nbconvert_exporter": "python",
   "pygments_lexer": "ipython3",
   "version": "3.6.5"
  }
 },
 "nbformat": 4,
 "nbformat_minor": 2
}
